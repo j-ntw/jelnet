{
 "cells": [
  {
   "cell_type": "code",
   "execution_count": 20,
   "metadata": {},
   "outputs": [],
   "source": [
    "import asyncio, telnetlib, os, shlex, argparse, gettext\n",
    "\n",
    "EXIT = \"exit\"\n",
    "LS = \"ls\"\n",
    "ls_parser = argparse.ArgumentParser()\n",
    "ls_parser.add_argument(\"-l\", help=\"long. list files in current directory with more details\", action=\"store_true\")\n",
    "LEGAL_CMDS = {LS: ls_parser}"
   ]
  },
  {
   "cell_type": "code",
   "execution_count": 30,
   "metadata": {},
   "outputs": [],
   "source": [
    "def sanitise(raw_msg: str) -> str:\n",
    "    # sanitise input\n",
    "    try:\n",
    "        raw_cmds = shlex.split(raw_msg)\n",
    "        print(raw_cmds)\n",
    "    except ValueError:\n",
    "        return EXIT\n",
    "    args, argv = LEGAL_CMDS.get(raw_cmds[0]).parse_known_args(raw_cmds[1:])\n",
    "    args= LEGAL_CMDS.get(raw_cmds[0]).parse_args(raw_cmds[1:])\n",
    "    # if argv:\n",
    "    #     msg = ('unrecognized arguments: %s')\n",
    "    #     msg % ' '.join(argv)\n",
    "    #     return msg\n",
    "    # else: \n",
    "    #     return args\n",
    "    return args"
   ]
  },
  {
   "cell_type": "code",
   "execution_count": 31,
   "metadata": {},
   "outputs": [
    {
     "name": "stdout",
     "output_type": "stream",
     "text": [
      "['ls', '-l']\n",
      "Namespace(l=True)\n",
      "['ls', '-l', '-a']\n"
     ]
    },
    {
     "name": "stderr",
     "output_type": "stream",
     "text": [
      "usage: ipykernel_launcher.py [-h] [-l]\n",
      "ipykernel_launcher.py: error: unrecognized arguments: -a\n"
     ]
    },
    {
     "ename": "SystemExit",
     "evalue": "2",
     "output_type": "error",
     "traceback": [
      "An exception has occurred, use %tb to see the full traceback.\n",
      "\u001b[1;31mSystemExit\u001b[0m\u001b[1;31m:\u001b[0m 2\n"
     ]
    },
    {
     "name": "stderr",
     "output_type": "stream",
     "text": [
      "c:\\Users\\Joshua\\Documents\\GitHub\\jelnet\\v\\lib\\site-packages\\IPython\\core\\interactiveshell.py:3468: UserWarning: To exit: use 'exit', 'quit', or Ctrl-D.\n",
      "  warn(\"To exit: use 'exit', 'quit', or Ctrl-D.\", stacklevel=1)\n"
     ]
    }
   ],
   "source": [
    "print( sanitise(\"ls -l\"))\n",
    "# print( sanitise(\"ls\"))\n",
    "print( sanitise(\"ls -l -a\"))\n",
    "# print( sanitise(\"skdjf\"))"
   ]
  },
  {
   "cell_type": "code",
   "execution_count": 24,
   "metadata": {},
   "outputs": [
    {
     "ename": "TypeError",
     "evalue": "'str' object is not callable",
     "output_type": "error",
     "traceback": [
      "\u001b[1;31m---------------------------------------------------------------------------\u001b[0m",
      "\u001b[1;31mTypeError\u001b[0m                                 Traceback (most recent call last)",
      "Cell \u001b[1;32mIn[24], line 1\u001b[0m\n\u001b[1;32m----> 1\u001b[0m msg \u001b[39m=\u001b[39m _(\u001b[39m'\u001b[39;49m\u001b[39munrecognized arguments: \u001b[39;49m\u001b[39m%s\u001b[39;49;00m\u001b[39m'\u001b[39;49m)\n\u001b[0;32m      2\u001b[0m msg \u001b[39m%\u001b[39m \u001b[39m'\u001b[39m\u001b[39m \u001b[39m\u001b[39m'\u001b[39m\u001b[39m.\u001b[39mjoin(argv)\n",
      "\u001b[1;31mTypeError\u001b[0m: 'str' object is not callable"
     ]
    }
   ],
   "source": []
  },
  {
   "cell_type": "code",
   "execution_count": null,
   "metadata": {},
   "outputs": [],
   "source": []
  }
 ],
 "metadata": {
  "kernelspec": {
   "display_name": "v",
   "language": "python",
   "name": "python3"
  },
  "language_info": {
   "codemirror_mode": {
    "name": "ipython",
    "version": 3
   },
   "file_extension": ".py",
   "mimetype": "text/x-python",
   "name": "python",
   "nbconvert_exporter": "python",
   "pygments_lexer": "ipython3",
   "version": "3.10.5"
  },
  "orig_nbformat": 4
 },
 "nbformat": 4,
 "nbformat_minor": 2
}
